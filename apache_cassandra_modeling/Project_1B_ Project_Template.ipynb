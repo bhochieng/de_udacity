{
 "cells": [
  {
   "cell_type": "markdown",
   "metadata": {
    "editable": true
   },
   "source": [
    "# Part I. ETL Pipeline for Pre-Processing the Files"
   ]
  },
  {
   "cell_type": "markdown",
   "metadata": {
    "editable": true
   },
   "source": [
    "## PLEASE RUN THE FOLLOWING CODE FOR PRE-PROCESSING THE FILES"
   ]
  },
  {
   "cell_type": "markdown",
   "metadata": {
    "editable": true
   },
   "source": [
    "#### Import Python packages "
   ]
  },
  {
   "cell_type": "code",
   "execution_count": 77,
   "metadata": {
    "editable": true
   },
   "outputs": [],
   "source": [
    "# Import Python packages \n",
    "import pandas as pd\n",
    "import cassandra\n",
    "import re\n",
    "import os\n",
    "import glob\n",
    "import numpy as np\n",
    "import json\n",
    "import csv\n",
    "from prettytable import PrettyTable\n"
   ]
  },
  {
   "cell_type": "markdown",
   "metadata": {
    "editable": true
   },
   "source": [
    "#### Creating list of filepaths to process original event csv data files"
   ]
  },
  {
   "cell_type": "code",
   "execution_count": 78,
   "metadata": {
    "editable": true
   },
   "outputs": [
    {
     "name": "stdout",
     "output_type": "stream",
     "text": [
      "/home/workspace\n"
     ]
    }
   ],
   "source": [
    "# checking your current working directory\n",
    "print(os.getcwd())\n",
    "\n",
    "# Get your current folder and subfolder event data\n",
    "filepath = os.getcwd() + '/event_data'\n",
    "\n",
    "# Create a for loop to create a list of files and collect each filepath\n",
    "for root, dirs, files in os.walk(filepath):\n",
    "    \n",
    "# join the file path and roots with the subdirectories using glob\n",
    "    file_path_list = glob.glob(os.path.join(root,'*'))"
   ]
  },
  {
   "cell_type": "markdown",
   "metadata": {
    "editable": true
   },
   "source": [
    "#### Processing the files to create the data file csv that will be used for Apache Casssandra tables"
   ]
  },
  {
   "cell_type": "code",
   "execution_count": 79,
   "metadata": {
    "editable": true
   },
   "outputs": [],
   "source": [
    "# initiating an empty list of rows that will be generated from each file\n",
    "full_data_rows_list = [] \n",
    "    \n",
    "# for every filepath in the file path list \n",
    "for f in file_path_list:\n",
    "\n",
    "# reading csv file \n",
    "    with open(f, 'r', encoding = 'utf8', newline='') as csvfile: \n",
    "        # creating a csv reader object \n",
    "        csvreader = csv.reader(csvfile) \n",
    "        next(csvreader)\n",
    "        \n",
    " # extracting each data row one by one and append it        \n",
    "        for line in csvreader:\n",
    "            full_data_rows_list.append(line) \n",
    "csv.register_dialect('myDialect', quoting=csv.QUOTE_ALL, skipinitialspace=True)\n",
    "\n",
    "with open('event_datafile_new.csv', 'w', encoding = 'utf8', newline='') as f:\n",
    "    writer = csv.writer(f, dialect='myDialect')\n",
    "    writer.writerow(['artist','firstName','gender','itemInSession','lastName','length',\\\n",
    "                'level','location','sessionId','song','userId'])\n",
    "    for row in full_data_rows_list:\n",
    "        if (row[0] == ''):\n",
    "            continue\n",
    "        writer.writerow((row[0], row[2], row[3], row[4], row[5], row[6], row[7], row[8], row[12], row[13], row[16]))\n"
   ]
  },
  {
   "cell_type": "code",
   "execution_count": 80,
   "metadata": {
    "editable": true
   },
   "outputs": [
    {
     "name": "stdout",
     "output_type": "stream",
     "text": [
      "6821\n"
     ]
    }
   ],
   "source": [
    "# check the number of rows in your csv file\n",
    "with open('event_datafile_new.csv', 'r', encoding = 'utf8') as f:\n",
    "    print(sum(1 for line in f))"
   ]
  },
  {
   "cell_type": "markdown",
   "metadata": {
    "editable": true
   },
   "source": [
    "# Part II. Complete the Apache Cassandra coding portion of your project. \n",
    "\n",
    "## Now you are ready to work with the CSV file titled <font color=red>event_datafile_new.csv</font>, located within the Workspace directory.  The event_datafile_new.csv contains the following columns: \n",
    "- artist \n",
    "- firstName of user\n",
    "- gender of user\n",
    "- item number in session\n",
    "- last name of user\n",
    "- length of the song\n",
    "- level (paid or free song)\n",
    "- location of the user\n",
    "- sessionId\n",
    "- song title\n",
    "- userId\n",
    "\n",
    "The image below is a screenshot of what the denormalized data should appear like in the <font color=red>**event_datafile_new.csv**</font> after the code above is run:<br>\n",
    "\n",
    "<img src=\"images/image_event_datafile_new.jpg\">"
   ]
  },
  {
   "cell_type": "markdown",
   "metadata": {
    "editable": true
   },
   "source": [
    "## Begin writing your Apache Cassandra code in the cells below"
   ]
  },
  {
   "cell_type": "markdown",
   "metadata": {
    "editable": true
   },
   "source": [
    "#### Creating a Cluster"
   ]
  },
  {
   "cell_type": "code",
   "execution_count": 81,
   "metadata": {
    "editable": true
   },
   "outputs": [
    {
     "name": "stdout",
     "output_type": "stream",
     "text": [
      "connected\n"
     ]
    }
   ],
   "source": [
    "# This should make a connection to a Cassandra instance your local machine \n",
    "# (127.0.0.1)\n",
    "\n",
    "from cassandra.cluster import Cluster\n",
    "cluster = Cluster()\n",
    "\n",
    "# To establish connection and begin executing queries, need a session\n",
    "try:\n",
    "    session = cluster.connect()\n",
    "    print('connected')\n",
    "except Exception as e: \n",
    "    print('Failed to connect',e)"
   ]
  },
  {
   "cell_type": "markdown",
   "metadata": {
    "editable": true
   },
   "source": [
    "#### Create Keyspace"
   ]
  },
  {
   "cell_type": "code",
   "execution_count": 82,
   "metadata": {
    "editable": true
   },
   "outputs": [],
   "source": [
    "try:\n",
    "    session.execute(\"\"\"Create keyspace if not exists brian_udacity with replication = {'class': 'SimpleStrategy','replication_factor':1}\"\"\")\n",
    "except Exception as e:\n",
    "    print('failed',e)"
   ]
  },
  {
   "cell_type": "markdown",
   "metadata": {
    "editable": true
   },
   "source": [
    "#### Set Keyspace"
   ]
  },
  {
   "cell_type": "code",
   "execution_count": 83,
   "metadata": {
    "editable": true
   },
   "outputs": [],
   "source": [
    "try:\n",
    "    session.set_keyspace('brian_udacity')\n",
    "except Exception as e:\n",
    "    print('failed',e)"
   ]
  },
  {
   "cell_type": "markdown",
   "metadata": {
    "editable": true
   },
   "source": [
    "### Now we need to create tables to run the following queries. Remember, with Apache Cassandra you model the database tables on the queries you want to run."
   ]
  },
  {
   "cell_type": "markdown",
   "metadata": {
    "editable": true
   },
   "source": [
    "## Create queries to ask the following three questions of the data\n",
    "\n",
    "### 1. Give me the artist, song title and song's length in the music app history that was heard during  sessionId = 338, and itemInSession  = 4\n",
    "\n",
    "\n",
    "### 2. Give me only the following: name of artist, song (sorted by itemInSession) and user (first and last name) for userid = 10, sessionid = 182\n",
    "    \n",
    "\n",
    "### 3. Give me every user name (first and last) in my music app history who listened to the song 'All Hands Against His Own'\n",
    "\n",
    "\n"
   ]
  },
  {
   "cell_type": "code",
   "execution_count": 90,
   "metadata": {
    "editable": true
   },
   "outputs": [],
   "source": [
    "#For table music_lib, session_id and session_item columns were used as partition key because the queries will filter by these column. \n",
    "drop_table = \"Drop table if exists song_info_by_session\"\n",
    "session.execute(drop_table)\n",
    "qrr = \"\"\"create table if not exists song_info_by_session(\n",
    "            artist text, \n",
    "            song text,\n",
    "            song_length float,\n",
    "            session_id int, \n",
    "            session_item int, \n",
    "        primary key(session_id,session_item)\n",
    ")\"\"\"\n",
    "try:\n",
    "    session.execute(drop_table)\n",
    "    session.execute(qrr)\n",
    "except Exception as e:\n",
    "    print('abort failed', e)"
   ]
  },
  {
   "cell_type": "code",
   "execution_count": 91,
   "metadata": {
    "editable": true
   },
   "outputs": [],
   "source": [
    "file = 'event_datafile_new.csv'\n",
    "\n",
    "with open(file, encoding = 'utf8') as f:\n",
    "    csvreader = csv.reader(f)\n",
    "    next(csvreader) # skip header\n",
    "    for line in csvreader:\n",
    "        query = \"insert into song_info_by_session(artist, song, song_length,session_id,session_item)\"\n",
    "        query = query + \"values(%s,%s,%s,%s,%s)\"\n",
    "        session.execute(query, (line[0], line[9], float(line[5]), int(line[8]), int(line[3]) ))"
   ]
  },
  {
   "cell_type": "markdown",
   "metadata": {
    "editable": true
   },
   "source": [
    "#### Do a SELECT to verify that the data have been inserted into each table"
   ]
  },
  {
   "cell_type": "code",
   "execution_count": 97,
   "metadata": {
    "editable": true,
    "scrolled": true
   },
   "outputs": [
    {
     "name": "stdout",
     "output_type": "stream",
     "text": [
      "+-----------+---------------------------------+--------------------+\n",
      "|   Artist  |               Song              |    Song_Length     |\n",
      "+-----------+---------------------------------+--------------------+\n",
      "| Faithless | Music Matters (Mark Knight Dub) | 495.30731201171875 |\n",
      "+-----------+---------------------------------+--------------------+\n"
     ]
    }
   ],
   "source": [
    "\"\"\"\n",
    "Here we get all records based on our usecase\n",
    "\"\"\"\n",
    "get_data = \"select artist,song,song_length,session_id,session_item from song_info_by_session where session_id=338 AND session_item=4\" \n",
    "recs = session.execute(get_data)\n",
    "query_results = PrettyTable()\n",
    "query_results.field_names = [\"Artist\",\"Song\",\"Song_Length\"]\n",
    "for row in recs:\n",
    "    query_results.add_row([row.artist, row.song, row.song_length])\n",
    "print(query_results)\n"
   ]
  },
  {
   "cell_type": "markdown",
   "metadata": {
    "editable": true
   },
   "source": [
    "### COPY AND REPEAT THE ABOVE THREE CELLS FOR EACH OF THE THREE QUESTIONS"
   ]
  },
  {
   "cell_type": "code",
   "execution_count": 93,
   "metadata": {
    "editable": true
   },
   "outputs": [],
   "source": [
    "#For table music_lib_user, user_id and session_id columns were used as partition key because the queries will filter by these column.\n",
    "# This table uses session_item column as the clustering key which is used to order the results in DESC.\n",
    "drop_table = \"Drop table if exists artist_user_song_info_by_session\"\n",
    "qrr = \"\"\"CREATE TABLE if not exists artist_user_song_info_by_session (\n",
    "             artist text, \n",
    "             song text,\n",
    "             f_name text,\n",
    "             l_name text, \n",
    "             user_id int,\n",
    "             session_id int, \n",
    "             session_item int,  \n",
    "         PRIMARY KEY ((user_id,session_id),session_item) \n",
    ") WITH CLUSTERING ORDER BY (session_item DESC);\"\"\"\n",
    "try:\n",
    "    session.execute(drop_table)\n",
    "    session.execute(qrr)\n",
    "except Exception as e:\n",
    "    print('abort failed', e)\n",
    "\n",
    "                    "
   ]
  },
  {
   "cell_type": "code",
   "execution_count": 94,
   "metadata": {
    "editable": true
   },
   "outputs": [],
   "source": [
    "with open(file, encoding = 'utf8') as f:\n",
    "    csvreader = csv.reader(f)\n",
    "    next(csvreader) # skip header\n",
    "    for line in csvreader:\n",
    "        query = \"insert into artist_user_song_info_by_session(artist, song, f_name,l_name,user_id,session_id,session_item)\"\n",
    "        query = query + \"values(%s,%s,%s,%s,%s,%s,%s)\"\n",
    "        session.execute(query, (line[0], line[9], line[1], line[4],int(line[10]), int(line[8]), int(line[3]) ))"
   ]
  },
  {
   "cell_type": "code",
   "execution_count": 96,
   "metadata": {
    "editable": true
   },
   "outputs": [
    {
     "name": "stdout",
     "output_type": "stream",
     "text": [
      "+-------------------+------------------------------------------------------+------------+-----------+------------+\n",
      "|       Artist      |                         Song                         | First Name | Last Name | Session ID |\n",
      "+-------------------+------------------------------------------------------+------------+-----------+------------+\n",
      "|   Lonnie Gordon   | Catch You Baby (Steve Pitron & Max Sanna Radio Edit) |   Sylvie   |    Cruz   |    182     |\n",
      "| Sebastien Tellier |                      Kilometer                       |   Sylvie   |    Cruz   |    182     |\n",
      "|    Three Drives   |                     Greece 2000                      |   Sylvie   |    Cruz   |    182     |\n",
      "|  Down To The Bone |                  Keep On Keepin' On                  |   Sylvie   |    Cruz   |    182     |\n",
      "+-------------------+------------------------------------------------------+------------+-----------+------------+\n"
     ]
    }
   ],
   "source": [
    "get_data = \"select artist,song,f_name,l_name,session_id,session_item from artist_user_song_info_by_session where user_id = 10 and session_id = 182 ORDER BY session_item DESC\" \n",
    "recs = session.execute(get_data)\n",
    "query_results1 = PrettyTable()\n",
    "query_results1.field_names = [\"Artist\",\"Song\",\"First Name\",\"Last Name\",\"Session ID\"]\n",
    "for row in recs:\n",
    "    query_results1.add_row([row.artist, row.song,row.f_name,row.l_name,row.session_id])\n",
    "print(query_results1)"
   ]
  },
  {
   "cell_type": "code",
   "execution_count": 98,
   "metadata": {
    "editable": true
   },
   "outputs": [],
   "source": [
    "#For table music_lib_user_song, song and user_id columns were used as partition key because the queries will filter by these column.\n",
    "drop_table = \"Drop table if exists user_info_by_song\"\n",
    "qrr = \"\"\"create table if not exists user_info_by_song(\n",
    "            song text,\n",
    "            user_id int,\n",
    "            f_name text,\n",
    "            l_name text,\n",
    "        primary key(song,user_id))\"\"\"\n",
    "try:\n",
    "    session.execute(drop_table)\n",
    "    session.execute(qrr)\n",
    "except Exception as e:\n",
    "    print('abort failed', e)\n",
    "                    "
   ]
  },
  {
   "cell_type": "code",
   "execution_count": 99,
   "metadata": {
    "editable": true
   },
   "outputs": [],
   "source": [
    "with open(file, encoding = 'utf8') as f:\n",
    "    csvreader = csv.reader(f)\n",
    "    next(csvreader) # skip header\n",
    "    for line in csvreader:\n",
    "        query = \"insert into user_info_by_song(song,user_id,f_name,l_name)\"\n",
    "        query = query + \"values(%s,%s,%s,%s)\"\n",
    "        session.execute(query, (line[9], int(line[10]), line[1], line[4]))"
   ]
  },
  {
   "cell_type": "code",
   "execution_count": 100,
   "metadata": {
    "editable": true
   },
   "outputs": [
    {
     "name": "stdout",
     "output_type": "stream",
     "text": [
      "+------------+-----------+\n",
      "| First Name | Last Name |\n",
      "+------------+-----------+\n",
      "| Jacqueline |   Lynch   |\n",
      "|   Tegan    |   Levine  |\n",
      "|    Sara    |  Johnson  |\n",
      "+------------+-----------+\n"
     ]
    }
   ],
   "source": [
    "get_data = \"select f_name,l_name from user_info_by_song where song = 'All Hands Against His Own'\" \n",
    "recs = session.execute(get_data)\n",
    "query_results2 = PrettyTable()\n",
    "query_results2.field_names = [\"First Name\",\"Last Name\"]\n",
    "for row in recs:\n",
    "    query_results2.add_row([row.f_name,row.l_name])\n",
    "print(query_results2)"
   ]
  },
  {
   "cell_type": "markdown",
   "metadata": {
    "editable": true
   },
   "source": [
    "### Drop the tables before closing out the sessions"
   ]
  },
  {
   "cell_type": "code",
   "execution_count": 101,
   "metadata": {
    "editable": true
   },
   "outputs": [],
   "source": [
    "drop_table_lib=\"\"\"Drop table song_info_by_session\"\"\"\n",
    "drop_table_libuser=\"\"\"Drop table artist_user_song_info_by_session\"\"\"\n",
    "drop_table_libusersong=\"\"\"Drop table user_info_by_song\"\"\"\n",
    "try:\n",
    "    session.execute(drop_table_lib)\n",
    "    session.execute(drop_table_libuser)\n",
    "    session.execute(drop_table_libusersong)\n",
    "except Exception as e:\n",
    "    print('failed dropping tables review code', e)"
   ]
  },
  {
   "cell_type": "markdown",
   "metadata": {
    "editable": true
   },
   "source": [
    "### Close the session and cluster connection¶"
   ]
  },
  {
   "cell_type": "code",
   "execution_count": 102,
   "metadata": {
    "editable": true
   },
   "outputs": [],
   "source": [
    "session.shutdown()\n",
    "cluster.shutdown()"
   ]
  },
  {
   "cell_type": "code",
   "execution_count": null,
   "metadata": {
    "editable": true
   },
   "outputs": [],
   "source": []
  }
 ],
 "metadata": {
  "kernelspec": {
   "display_name": "Python 3",
   "language": "python",
   "name": "python3"
  },
  "language_info": {
   "codemirror_mode": {
    "name": "ipython",
    "version": 3
   },
   "file_extension": ".py",
   "mimetype": "text/x-python",
   "name": "python",
   "nbconvert_exporter": "python",
   "pygments_lexer": "ipython3",
   "version": "3.6.3"
  }
 },
 "nbformat": 4,
 "nbformat_minor": 4
}
